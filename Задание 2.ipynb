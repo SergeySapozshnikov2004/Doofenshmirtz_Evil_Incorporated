{
  "metadata": {
    "kernelspec": {
      "name": "python",
      "display_name": "Python (Pyodide)",
      "language": "python"
    },
    "language_info": {
      "codemirror_mode": {
        "name": "python",
        "version": 3
      },
      "file_extension": ".py",
      "mimetype": "text/x-python",
      "name": "python",
      "nbconvert_exporter": "python",
      "pygments_lexer": "ipython3",
      "version": "3.8"
    }
  },
  "nbformat_minor": 5,
  "nbformat": 4,
  "cells": [
    {
      "id": "99725471-4669-4d52-acd0-e498294f131f",
      "cell_type": "code",
      "source": "from multiprocessing import Queue\nmonitor_events_queue = Queue()",
      "metadata": {
        "trusted": true
      },
      "outputs": [
        {
          "ename": "<class 'ModuleNotFoundError'>",
          "evalue": "No module named '_multiprocessing'",
          "traceback": [
            "\u001b[0;31m---------------------------------------------------------------------------\u001b[0m",
            "\u001b[0;31mModuleNotFoundError\u001b[0m                       Traceback (most recent call last)",
            "Cell \u001b[0;32mIn[12], line 2\u001b[0m\n\u001b[1;32m      1\u001b[0m \u001b[38;5;28;01mfrom\u001b[39;00m \u001b[38;5;21;01mmultiprocessing\u001b[39;00m \u001b[38;5;28;01mimport\u001b[39;00m Queue\n\u001b[0;32m----> 2\u001b[0m monitor_events_queue \u001b[38;5;241m=\u001b[39m \u001b[43mQueue\u001b[49m\u001b[43m(\u001b[49m\u001b[43m)\u001b[49m\n",
            "File \u001b[0;32m/lib/python312.zip/multiprocessing/context.py:102\u001b[0m, in \u001b[0;36mBaseContext.Queue\u001b[0;34m(self, maxsize)\u001b[0m\n\u001b[1;32m    100\u001b[0m \u001b[38;5;28;01mdef\u001b[39;00m \u001b[38;5;21mQueue\u001b[39m(\u001b[38;5;28mself\u001b[39m, maxsize\u001b[38;5;241m=\u001b[39m\u001b[38;5;241m0\u001b[39m):\n\u001b[1;32m    101\u001b[0m \u001b[38;5;250m    \u001b[39m\u001b[38;5;124;03m'''Returns a queue object'''\u001b[39;00m\n\u001b[0;32m--> 102\u001b[0m     \u001b[38;5;28;01mfrom\u001b[39;00m \u001b[38;5;21;01m.\u001b[39;00m\u001b[38;5;21;01mqueues\u001b[39;00m \u001b[38;5;28;01mimport\u001b[39;00m Queue\n\u001b[1;32m    103\u001b[0m     \u001b[38;5;28;01mreturn\u001b[39;00m Queue(maxsize, ctx\u001b[38;5;241m=\u001b[39m\u001b[38;5;28mself\u001b[39m\u001b[38;5;241m.\u001b[39mget_context())\n",
            "File \u001b[0;32m/lib/python312.zip/multiprocessing/queues.py:23\u001b[0m\n\u001b[1;32m     19\u001b[0m \u001b[38;5;28;01mimport\u001b[39;00m \u001b[38;5;21;01merrno\u001b[39;00m\n\u001b[1;32m     21\u001b[0m \u001b[38;5;28;01mfrom\u001b[39;00m \u001b[38;5;21;01mqueue\u001b[39;00m \u001b[38;5;28;01mimport\u001b[39;00m Empty, Full\n\u001b[0;32m---> 23\u001b[0m \u001b[38;5;28;01mimport\u001b[39;00m \u001b[38;5;21;01m_multiprocessing\u001b[39;00m\n\u001b[1;32m     25\u001b[0m \u001b[38;5;28;01mfrom\u001b[39;00m \u001b[38;5;21;01m.\u001b[39;00m \u001b[38;5;28;01mimport\u001b[39;00m connection\n\u001b[1;32m     26\u001b[0m \u001b[38;5;28;01mfrom\u001b[39;00m \u001b[38;5;21;01m.\u001b[39;00m \u001b[38;5;28;01mimport\u001b[39;00m context\n",
            "\u001b[0;31mModuleNotFoundError\u001b[0m: No module named '_multiprocessing'"
          ],
          "output_type": "error"
        }
      ],
      "execution_count": 12
    },
    {
      "id": "d3730979-b887-417b-b18c-1a658616fdc9",
      "cell_type": "code",
      "source": "from dataclasses import dataclass\n\n\n@dataclass\nclass Event:\n    source: str       # отправитель\n    destination: str  # получатель\n    operation: str    # чего хочет (запрашиваемое действие)\n    parameters: str   # с какими параметрами",
      "metadata": {
        "trusted": true
      },
      "outputs": [],
      "execution_count": 13
    },
    {
      "id": "28bc0795-9f9f-4d29-b14b-ab91bd0dafb7",
      "cell_type": "code",
      "source": "from multiprocessing import Queue, Process\nfrom multiprocessing.queues import Empty\nimport json\n\n# формат управляющих команд для монитора\n@dataclass\nclass ControlEvent:\n    operation: str\n\n# список разрешенных сочетаний сигналов светофора\n# любые сочетания, отсутствующие в этом списке, запрещены\ntraffic_lights_allowed_configurations = [\n    {\"direction_1\": \"red\", \"direction_2\": \"green\"},\n    {\"direction_1\": \"red\", \"direction_2\": \"red\"},    \n    {\"direction_1\": \"red\", \"direction_2\": \"yellow\"},    \n    {\"direction_1\": \"yellow\", \"direction_2\": \"yellow\"},    \n    {\"direction_1\": \"off\", \"direction_2\": \"off\"},\n    {\"direction_1\": \"green\", \"direction_2\": \"red\"},    \n    {\"direction_1\": \"green\", \"direction_2\": \"yellow\"},\n    {\"direction_1\": \"left\",  \"direction_2\": \"green\"},\n    {\"direction_1\": \"left\",  \"direction_2\": \"red\"},\n    {\"direction_1\": \"left\",  \"direction_2\": \"yellow\"},\n    {\"direction_1\": \"right\",  \"direction_2\": \"green\"},\n    {\"direction_1\": \"right\",  \"direction_2\": \"red\"},\n    {\"direction_1\": \"right\",  \"direction_2\": \"yellow\"},\n]\n\n\n# Класс, реализующий поведение монитора безопасности\nclass Monitor(Process):\n\n    def __init__(self, events_q: Queue):\n        # вызываем конструктор базового класса\n        super().__init__()\n        self._events_q = events_q  # очередь событий для монитора (входящие сообщения)\n        self._control_q = Queue()  # очередь управляющих команд (например, для остановки монитора)\n        self._entity_queues = {}   # словарь очередей известных монитору сущностей\n        self._force_quit = False   # флаг завершения работы монитора\n\n    # регистрация очереди новой сущности\n    def add_entity_queue(self, entity_id: str, queue: Queue):\n        print(f\"[монитор] регистрируем сущность {entity_id}\")\n        self._entity_queues[entity_id] = queue\n\n    def _check_mode(self, mode_str: str) -> bool:\n        mode_ok = False\n        try:\n            # извлечём структуру из строки, в случае ошибки запретим изменение режима\n            mode = json.loads(mode_str)\n            # проверим входит ли запрашиваемый режим в список разрешённых\n            print(f\"[монитор] проверяем конфигурацию {mode}\")\n            if mode in traffic_lights_allowed_configurations:\n                # такой режим найден, можно активировать\n                mode_ok = True\n        except:\n            mode_ok = False\n        return mode_ok\n\n    # проверка политик безопасности        \n    def _check_policies(self, event):\n        print(f'[монитор] обрабатываем событие {event}')\n\n        # default deny: всё, что не разрешено, запрещено по умолчанию!\n        authorized = False\n\n        # проверка на входе, что это экземпляр класса Event, \n        # т.е. имеет ожидаемый формат\n        if not isinstance(event, Event):\n            return False\n\n        # \n        #  политики безопасности\n        #\n\n        # пример политики безопасности\n        if event.source == \"ControlSystem\" \\\n                and event.destination == \"LightsGPIO\" \\\n                and event.operation == \"set_mode\" \\\n                and self._check_mode(event.parameters):\n            authorized = True\n\n        if authorized is False:\n            print(\"[монитор] событие не разрешено политиками безопасности\")\n        return authorized\n\n    # выполнение разрешённого запроса\n    # метод должен вызываться только после проверки политик безопасности\n    def _proceed(self, event):\n        print(f'[монитор] отправляем запрос {event}')\n        try:\n            # найдём очередь получателя события\n            dst_q: Queue = self._entity_queues[event.destination]\n            # и положим запрос в эту очередь\n            dst_q.put(event)\n        except  Exception as e:\n            # например, запрос пришёл от или для неизвестной сущности\n            print(f\"[монитор] ошибка выполнения запроса {e}\")\n\n    # основной код работы монитора безопасности    \n    def run(self):\n        print('[монитор] старт')\n\n        # в цикле проверяет наличие новых событий, \n        # выход из цикла по флагу _force_quit\n        while self._force_quit is False:\n            event = None\n            try:\n                # ожидание сделано неблокирующим, \n                # чтобы можно было завершить работу монитора, \n                # не дожидаясь нового сообщения\n                event = self._events_q.get_nowait()\n                # сюда попадаем только в случае получение события,\n                # теперь нужно проверить политики безопасности\n                authorized = self._check_policies(event)\n                if authorized:\n                    # если политиками запрос авторизован - выполняем\n                    self._proceed(event)\n            except Empty:\n                # сюда попадаем, если новых сообщений ещё нет,\n                # в таком случае немного подождём\n                sleep(0.5)\n            except Exception as e:\n                # что-то пошло не так, выведем сообщение об ошибке\n                print(f\"[монитор] ошибка обработки {e}, {event}\")\n            self._check_control_q()\n        print('[монитор] завершение работы')\n\n    # запрос на остановку работы монитора безопасности для завершения работы\n    # может вызываться вне процесса монитора\n    def stop(self):\n        # поскольку монитор работает в отдельном процессе,\n        # запрос помещается в очередь, которая проверяется из процесса монитора\n        request = ControlEvent(operation='stop')\n        self._control_q.put(request)\n\n    # проверка наличия новых управляющих команд\n    def _check_control_q(self):\n        try:\n            request: ControlEvent = self._control_q.get_nowait()\n            print(f\"[монитор] проверяем запрос {request}\")\n            if isinstance(request, ControlEvent) and request.operation == 'stop':\n                # поступил запрос на остановку монитора, поднимаем \"красный флаг\"\n                self._force_quit = True\n        except Empty:\n            # никаких команд не поступило, ну и ладно\n            pass",
      "metadata": {
        "trusted": true
      },
      "outputs": [
        {
          "ename": "<class 'ModuleNotFoundError'>",
          "evalue": "No module named '_multiprocessing'",
          "traceback": [
            "\u001b[0;31m---------------------------------------------------------------------------\u001b[0m",
            "\u001b[0;31mModuleNotFoundError\u001b[0m                       Traceback (most recent call last)",
            "Cell \u001b[0;32mIn[14], line 2\u001b[0m\n\u001b[1;32m      1\u001b[0m \u001b[38;5;28;01mfrom\u001b[39;00m \u001b[38;5;21;01mmultiprocessing\u001b[39;00m \u001b[38;5;28;01mimport\u001b[39;00m Queue, Process\n\u001b[0;32m----> 2\u001b[0m \u001b[38;5;28;01mfrom\u001b[39;00m \u001b[38;5;21;01mmultiprocessing\u001b[39;00m\u001b[38;5;21;01m.\u001b[39;00m\u001b[38;5;21;01mqueues\u001b[39;00m \u001b[38;5;28;01mimport\u001b[39;00m Empty\n\u001b[1;32m      3\u001b[0m \u001b[38;5;28;01mimport\u001b[39;00m \u001b[38;5;21;01mjson\u001b[39;00m\n\u001b[1;32m      5\u001b[0m \u001b[38;5;66;03m# формат управляющих команд для монитора\u001b[39;00m\n",
            "File \u001b[0;32m/lib/python312.zip/multiprocessing/queues.py:23\u001b[0m\n\u001b[1;32m     19\u001b[0m \u001b[38;5;28;01mimport\u001b[39;00m \u001b[38;5;21;01merrno\u001b[39;00m\n\u001b[1;32m     21\u001b[0m \u001b[38;5;28;01mfrom\u001b[39;00m \u001b[38;5;21;01mqueue\u001b[39;00m \u001b[38;5;28;01mimport\u001b[39;00m Empty, Full\n\u001b[0;32m---> 23\u001b[0m \u001b[38;5;28;01mimport\u001b[39;00m \u001b[38;5;21;01m_multiprocessing\u001b[39;00m\n\u001b[1;32m     25\u001b[0m \u001b[38;5;28;01mfrom\u001b[39;00m \u001b[38;5;21;01m.\u001b[39;00m \u001b[38;5;28;01mimport\u001b[39;00m connection\n\u001b[1;32m     26\u001b[0m \u001b[38;5;28;01mfrom\u001b[39;00m \u001b[38;5;21;01m.\u001b[39;00m \u001b[38;5;28;01mimport\u001b[39;00m context\n",
            "\u001b[0;31mModuleNotFoundError\u001b[0m: No module named '_multiprocessing'"
          ],
          "output_type": "error"
        }
      ],
      "execution_count": 14
    },
    {
      "id": "f80971cf-dab6-49d6-b152-d4126182e2ac",
      "cell_type": "code",
      "source": "from multiprocessing import Queue, Process\nimport json\n\n\nclass ControlSystem(Process):\n\n    def __init__(self, monitor_queue: Queue):\n        # вызываем конструктор базового класса\n        super().__init__()\n        # мы знаем только очередь монитора безопасности для взаимодействия с другими сущностями\n        # прямая отправка сообщений в другую сущность запрещена в концепции FLASK\n        self.monitor_queue = monitor_queue\n        # создаём собственную очередь, в которую монитор сможет положить сообщения для этой сущности\n        self._own_queue = Queue()\n\n    # выдаёт собственную очередь для взаимодействия\n    def entity_queue(self):\n        return self._own_queue\n\n    # основной код сущности\n    def run(self):        \n        print(f'[{self.__class__.__name__}] старт')\n        print(f'[{self.__class__.__name__}] отправляем тестовый запрос')\n\n        mode = {\"direction_1\": \"yellow_blinking\", \"direction_2\": \"yellow_blinking\"}\n\n        # запрос для сущности WorkerB - \"скажи hello\"\n        event = Event(source=self.__class__.__name__,\n                      destination='LightsGPIO',\n                      operation='set_mode',\n                      parameters=json.dumps(mode)\n                      )\n        \n        self.monitor_queue.put(event)\n        print(f'[{self.__class__.__name__}] завершение работы')",
      "metadata": {
        "trusted": true
      },
      "outputs": [],
      "execution_count": 4
    },
    {
      "id": "eda592fa-0267-40c3-b078-e5af31e70995",
      "cell_type": "code",
      "source": "from multiprocessing import Queue, Process\nfrom time import sleep\n\n\nclass LightsGPIO(Process):\n\n    def __init__(self, monitor_queue: Queue):\n        # вызываем конструктор базового класса\n        super().__init__()\n        # мы знаем только очередь монитора безопасности для взаимодействия с другими сущностями\n        # прямая отправка сообщений в другую сущность запрещена в концепции FLASK\n        self.monitor_queue = monitor_queue\n        # создаём собственную очередь, в которую монитор сможет положить сообщения для этой сущности\n        self._own_queue = Queue()\n\n    def entity_queue(self):\n        return self._own_queue\n\n    # основной код сущности\n    def run(self):        \n        print(f'[{self.__class__.__name__}] старт')\n        while self.running: # Изменили условие цикла (пока селфран тру)\n            try:\n                event: Event = self._own_queue.get_nowait()\n                if event.operation == \"set_mode\":\n                    print(f\"[{self.__class__.__name__}] {event.source} запрашивает изменение режима {event.parameters}\")\n                    print(f\"[{self.__class__.__name__}] новый режим: {event.parameters}!\")\n                    \n                elif event.operation == \"stop\":\n                    print(f'[{self.__class__.__name__}]завершение работы)\n                    self.running = False",
      "metadata": {
        "trusted": true
      },
      "outputs": [
        {
          "ename": "<class 'SyntaxError'>",
          "evalue": "unterminated f-string literal (detected at line 30) (<ipython-input-5-aa2f9569809b>, line 30)",
          "traceback": [
            "\u001b[0;36m  Cell \u001b[0;32mIn[5], line 30\u001b[0;36m\u001b[0m\n\u001b[0;31m    print(f'[{self.__class__.__name__}]завершение работы)\u001b[0m\n\u001b[0m          ^\u001b[0m\n\u001b[0;31mSyntaxError\u001b[0m\u001b[0;31m:\u001b[0m unterminated f-string literal (detected at line 30)\n"
          ],
          "output_type": "error"
        }
      ],
      "execution_count": 5
    },
    {
      "id": "d6c941a0-91e9-45cb-b9d8-bb94c427eba0",
      "cell_type": "code",
      "source": "monitor = Monitor(monitor_events_queue)\ncontrol_system = ControlSystem(monitor_events_queue)\nlights_gpio = LightsGPIO(monitor_events_queue)",
      "metadata": {
        "trusted": true
      },
      "outputs": [
        {
          "ename": "<class 'NameError'>",
          "evalue": "name 'Monitor' is not defined",
          "traceback": [
            "\u001b[0;31m---------------------------------------------------------------------------\u001b[0m",
            "\u001b[0;31mNameError\u001b[0m                                 Traceback (most recent call last)",
            "Cell \u001b[0;32mIn[6], line 1\u001b[0m\n\u001b[0;32m----> 1\u001b[0m monitor \u001b[38;5;241m=\u001b[39m \u001b[43mMonitor\u001b[49m(monitor_events_queue)\n\u001b[1;32m      2\u001b[0m control_system \u001b[38;5;241m=\u001b[39m ControlSystem(monitor_events_queue)\n\u001b[1;32m      3\u001b[0m lights_gpio \u001b[38;5;241m=\u001b[39m LightsGPIO(monitor_events_queue)\n",
            "\u001b[0;31mNameError\u001b[0m: name 'Monitor' is not defined"
          ],
          "output_type": "error"
        }
      ],
      "execution_count": 6
    },
    {
      "id": "b14d0f2d-9585-4176-a6e2-f5704cc718ed",
      "cell_type": "code",
      "source": "monitor.add_entity_queue(control_system.__class__.__name__, control_system.entity_queue())\nmonitor.add_entity_queue(lights_gpio.__class__.__name__, lights_gpio.entity_queue())",
      "metadata": {
        "trusted": true
      },
      "outputs": [
        {
          "ename": "<class 'NameError'>",
          "evalue": "name 'monitor' is not defined",
          "traceback": [
            "\u001b[0;31m---------------------------------------------------------------------------\u001b[0m",
            "\u001b[0;31mNameError\u001b[0m                                 Traceback (most recent call last)",
            "Cell \u001b[0;32mIn[7], line 1\u001b[0m\n\u001b[0;32m----> 1\u001b[0m \u001b[43mmonitor\u001b[49m\u001b[38;5;241m.\u001b[39madd_entity_queue(control_system\u001b[38;5;241m.\u001b[39m\u001b[38;5;18m__class__\u001b[39m\u001b[38;5;241m.\u001b[39m\u001b[38;5;18m__name__\u001b[39m, control_system\u001b[38;5;241m.\u001b[39mentity_queue())\n\u001b[1;32m      2\u001b[0m monitor\u001b[38;5;241m.\u001b[39madd_entity_queue(lights_gpio\u001b[38;5;241m.\u001b[39m\u001b[38;5;18m__class__\u001b[39m\u001b[38;5;241m.\u001b[39m\u001b[38;5;18m__name__\u001b[39m, lights_gpio\u001b[38;5;241m.\u001b[39mentity_queue())\n",
            "\u001b[0;31mNameError\u001b[0m: name 'monitor' is not defined"
          ],
          "output_type": "error"
        }
      ],
      "execution_count": 7
    },
    {
      "id": "c0999dee-bda2-4b64-a2aa-1a1be3b918ac",
      "cell_type": "code",
      "source": "monitor.start()\ncontrol_system.start()\nlights_gpio.start()\nsleep(2)",
      "metadata": {
        "trusted": true
      },
      "outputs": [
        {
          "ename": "<class 'NameError'>",
          "evalue": "name 'monitor' is not defined",
          "traceback": [
            "\u001b[0;31m---------------------------------------------------------------------------\u001b[0m",
            "\u001b[0;31mNameError\u001b[0m                                 Traceback (most recent call last)",
            "Cell \u001b[0;32mIn[8], line 1\u001b[0m\n\u001b[0;32m----> 1\u001b[0m \u001b[43mmonitor\u001b[49m\u001b[38;5;241m.\u001b[39mstart()\n\u001b[1;32m      2\u001b[0m control_system\u001b[38;5;241m.\u001b[39mstart()\n\u001b[1;32m      3\u001b[0m lights_gpio\u001b[38;5;241m.\u001b[39mstart()\n",
            "\u001b[0;31mNameError\u001b[0m: name 'monitor' is not defined"
          ],
          "output_type": "error"
        }
      ],
      "execution_count": 8
    },
    {
      "id": "4c13e1e4-65ce-4270-8081-8f31dd49d815",
      "cell_type": "code",
      "source": "monitor.stop()\ncontrol_system.join()\nlights_gpio.join()\nmonitor.join()",
      "metadata": {
        "trusted": true
      },
      "outputs": [
        {
          "ename": "<class 'NameError'>",
          "evalue": "name 'monitor' is not defined",
          "traceback": [
            "\u001b[0;31m---------------------------------------------------------------------------\u001b[0m",
            "\u001b[0;31mNameError\u001b[0m                                 Traceback (most recent call last)",
            "Cell \u001b[0;32mIn[9], line 1\u001b[0m\n\u001b[0;32m----> 1\u001b[0m \u001b[43mmonitor\u001b[49m\u001b[38;5;241m.\u001b[39mstop()\n\u001b[1;32m      2\u001b[0m control_system\u001b[38;5;241m.\u001b[39mjoin()\n\u001b[1;32m      3\u001b[0m lights_gpio\u001b[38;5;241m.\u001b[39mjoin()\n",
            "\u001b[0;31mNameError\u001b[0m: name 'monitor' is not defined"
          ],
          "output_type": "error"
        }
      ],
      "execution_count": 9
    },
    {
      "id": "7b3aced2-04be-4fb7-a176-2034c5b108b9",
      "cell_type": "code",
      "source": "",
      "metadata": {},
      "outputs": [],
      "execution_count": null
    }
  ]
}